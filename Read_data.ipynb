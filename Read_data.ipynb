{
 "cells": [
  {
   "cell_type": "code",
   "execution_count": null,
   "id": "dcf15abd",
   "metadata": {},
   "outputs": [],
   "source": [
    "from google.colab import drive\n",
    "drive.mount('/content/drive')"
   ]
  },
  {
   "cell_type": "code",
   "execution_count": null,
   "id": "92533d92",
   "metadata": {},
   "outputs": [],
   "source": [
    "%cd /content/drive/MyDrive/"
   ]
  },
  {
   "cell_type": "code",
   "execution_count": null,
   "id": "201d9f49",
   "metadata": {},
   "outputs": [],
   "source": [
    "!git clone https://github.com/FilLTP89/HEMEW3D.git"
   ]
  },
  {
   "cell_type": "code",
   "execution_count": null,
   "id": "1bc0c1d3",
   "metadata": {},
   "outputs": [],
   "source": [
    "%cd /content/drive/MyDrive/HEMEW3D"
   ]
  },
  {
   "cell_type": "code",
   "execution_count": 1,
   "id": "37c93336-56b6-455a-a2f1-3d4e346fe6a6",
   "metadata": {},
   "outputs": [],
   "source": [
    "import numpy as np\n",
    "import pandas as pd\n",
    "import matplotlib.pyplot as plt\n",
    "from matplotlib import cm\n",
    "from matplotlib.colors import Normalize\n",
    "\n",
    "from simulation.utils import plot3Dcube\n",
    "\n",
    "A_MIN = 1071 # minimum material value (shear wave velocity in m/s)\n",
    "A_MAX = 4500 # maximum material value (shear wave velocity in m/s)"
   ]
  },
  {
   "cell_type": "markdown",
   "id": "02fb8a44-a32c-44af-bb85-ab761ff6c730",
   "metadata": {},
   "source": [
    "This notebook shows how to plot materials and velocity fields downloaded from the database. "
   ]
  },
  {
   "cell_type": "markdown",
   "id": "3f8f996e-c8f2-4918-9648-c36af6f2d4a2",
   "metadata": {},
   "source": [
    "# Materials"
   ]
  },
  {
   "cell_type": "markdown",
   "id": "7a9447ef-2cb7-42d9-a11b-58e790f09ad8",
   "metadata": {},
   "source": [
    "Read 2000 materials downloaded from the data repository. "
   ]
  },
  {
   "cell_type": "code",
   "execution_count": null,
   "id": "99cde980-347c-41b4-84b7-dae0b426ffb9",
   "metadata": {},
   "outputs": [],
   "source": [
    "a = np.load('./data/materials0-9.npy')\n",
    "print(a.shape)"
   ]
  },
  {
   "cell_type": "markdown",
   "id": "d94bc1b0-844d-46c0-9eb0-2c526a62bec5",
   "metadata": {},
   "source": [
    "Plot a 3D element"
   ]
  },
  {
   "cell_type": "code",
   "execution_count": null,
   "id": "e50ba98d-67f8-4a1a-9a98-e301b1fb7d0a",
   "metadata": {},
   "outputs": [],
   "source": [
    "element = 7\n",
    "\n",
    "plot3Dcube(a[element], Xvec = np.linspace(0, 9600, 32), Yvec = np.linspace(0, 9600, 32), \n",
    "           Zvec = np.linspace(-9600, 0, 32), \n",
    "           figsize=(5.5,4), title=f'Material {element}')"
   ]
  },
  {
   "cell_type": "markdown",
   "id": "8c499ba0-27a5-4555-b9e0-2aff5c1c07a7",
   "metadata": {},
   "source": [
    "Plot slices of the material in the three directions. "
   ]
  },
  {
   "cell_type": "code",
   "execution_count": null,
   "id": "db604856-b005-4e1a-9795-a4d3537b8381",
   "metadata": {},
   "outputs": [],
   "source": [
    "ticks = np.linspace(-0.5, 31.5, 4) # rename intrinsic ticks between 0 and 32 to real meter values\n",
    "ticklabels = np.linspace(0, 9600, 4).astype(int)\n",
    "\n",
    "fig, (ax1, ax2, ax3) = plt.subplots(1, 3, figsize=(10, 3.5))\n",
    "# West-East view at y=0m\n",
    "im = ax1.imshow(a[element, :, 0, :].T, vmin=A_MIN, vmax=A_MAX, origin='lower')\n",
    "ax1.set_xticks(ticks)\n",
    "ax1.set_xticklabels(ticklabels)\n",
    "ax1.set_xlabel('x (m)')\n",
    "ax1.set_yticks(ticks)\n",
    "ax1.set_yticklabels(ticklabels-9600)\n",
    "ax1.set_ylabel('z (m)')\n",
    "ax1.set_title('West-East view at y=0m')\n",
    "\n",
    "# South-North view at x=9600m\n",
    "ax2.imshow(a[element, -1, :, :].T, vmin=A_MIN, vmax=A_MAX, origin='lower')\n",
    "ax2.set_xticks(ticks)\n",
    "ax2.set_xticklabels(ticklabels)\n",
    "ax2.set_xlabel('y (m)')\n",
    "ax2.set_yticks(ticks)\n",
    "ax2.set_yticklabels(ticklabels-9600)\n",
    "ax2.set_ylabel('z (m)')\n",
    "ax2.set_title('South-North view at x=9600m')\n",
    "\n",
    "# upward view\n",
    "ax3.imshow(a[element, :, :, -1].T, vmin=A_MIN, vmax=A_MAX, origin='lower')\n",
    "ax3.set_xticks(ticks)\n",
    "ax3.set_xticklabels(ticklabels)\n",
    "ax3.set_xlabel('x (m)')\n",
    "ax3.set_yticks(ticks)\n",
    "ax3.set_yticklabels(ticklabels)\n",
    "ax3.set_ylabel('y (m)')\n",
    "ax3.set_title('Upward view')\n",
    "\n",
    "fig.subplots_adjust(wspace=0.4, left=0.07, right=0.9)\n",
    "cax = plt.axes([0.92, 0.2, 0.02, 0.6])\n",
    "fig.colorbar(im, cax=cax)\n",
    "plt.show()"
   ]
  },
  {
   "cell_type": "markdown",
   "id": "983ad05c-2673-45f7-9a24-8a2b2e6d446f",
   "metadata": {},
   "source": [
    "# Velocity fields"
   ]
  },
  {
   "cell_type": "markdown",
   "id": "d32c6f07-29d2-47a9-8c64-106ff07ddc7b",
   "metadata": {},
   "source": [
    "Read a batch of 100 velocity fields"
   ]
  },
  {
   "cell_type": "code",
   "execution_count": null,
   "id": "5427e03f-a91c-4a8b-9fed-68d301e9e375",
   "metadata": {},
   "outputs": [],
   "source": [
    "v = pd.concat([pd.read_feather(f'./data/velocity{i}.feather', columns=list(range(1,2006))) for i in range(10)])\n",
    "v.columns = list(v.columns[:5]) + list(v.columns[5:].astype(float))\n",
    "v.head()"
   ]
  },
  {
   "cell_type": "markdown",
   "id": "2fd51229-60a7-4192-b918-43b9698b42e7",
   "metadata": {},
   "source": [
    "List the sensors' coordinates"
   ]
  },
  {
   "cell_type": "code",
   "execution_count": null,
   "id": "43310799-a769-4db1-874f-85dd309ce530",
   "metadata": {},
   "outputs": [],
   "source": [
    "print(np.unique(v.x))\n",
    "print(np.unique(v.y))"
   ]
  },
  {
   "cell_type": "markdown",
   "id": "3da957e3-2792-42e6-9926-bc33263e14d3",
   "metadata": {},
   "source": [
    "Print the timeseries at a given sensor located at `(sensor_x, sensor_y)`. "
   ]
  },
  {
   "cell_type": "code",
   "execution_count": null,
   "id": "9d578ce4-ad42-482e-9b76-55c9abea8dc6",
   "metadata": {},
   "outputs": [],
   "source": [
    "sensor_x, sensor_y = 2630, 4490 # sensor coordinates\n",
    "v_element = v.loc[(v.run==element)&(v.x==sensor_x)&(v.y==sensor_y)]\n",
    "\n",
    "fig, (ax1, ax2, ax3) = plt.subplots(3, 1, sharex=True, figsize=(6,5))\n",
    "fig.subplots_adjust(left=0.15, right=0.95, top=0.9)\n",
    "ax1.plot(v_element.loc[v_element.field=='Veloc E'].iloc[:,5:].T, 'k')\n",
    "ax1.set_ylabel('$V_E$ (m/s)')\n",
    "\n",
    "ax2.plot(v_element.loc[v_element.field=='Veloc N'].iloc[:,5:].T, 'k')\n",
    "ax2.set_ylabel('$V_N$ (m/s)')\n",
    "\n",
    "ax3.plot(v_element.loc[v_element.field=='Veloc Z'].iloc[:,5:].T, 'k')\n",
    "ax3.set_ylabel('$V_Z$ (m/s)')\n",
    "ax3.set_xlim([0, 20])\n",
    "ax3.set_xlabel('Time (s)')\n",
    "fig.suptitle(f'Velocity field at ({int(sensor_x)}m; {int(sensor_y)}m) for element {element}')\n",
    "\n",
    "plt.show()"
   ]
  },
  {
   "cell_type": "markdown",
   "id": "f9f74d8e-c90d-4453-9a00-e0f8ba6e5ee7",
   "metadata": {},
   "source": [
    "Reshape `.feather` data into a numpy array. For each component, the dimensions are (sample index, y index, x index, timestep)"
   ]
  },
  {
   "cell_type": "code",
   "execution_count": 27,
   "id": "4c4d1a8b-b154-4a2e-b762-34e40193701a",
   "metadata": {},
   "outputs": [],
   "source": [
    "vE = v.loc[(v.field=='Veloc E')].sort_values(by=['run','y','x']).iloc[:,5:].values.reshape(10,16,16,2000)\n",
    "vN = v.loc[(v.field=='Veloc N')].sort_values(by=['run','y','x']).iloc[:,5:].values.reshape(10,16,16,2000)\n",
    "vZ = v.loc[(v.field=='Veloc Z')].sort_values(by=['run','y','x']).iloc[:,5:].values.reshape(10,16,16,2000)"
   ]
  },
  {
   "cell_type": "markdown",
   "id": "923285d7-66ac-4373-a1c3-4ffca8c363a6",
   "metadata": {},
   "source": [
    "Sanity check that the formatting is correct."
   ]
  },
  {
   "cell_type": "code",
   "execution_count": null,
   "id": "975dc697-1791-447e-8f28-63e35e4a894b",
   "metadata": {},
   "outputs": [],
   "source": [
    "isensor_x = np.random.randint(16)\n",
    "isensor_y = np.random.randint(16)\n",
    "sensor_x = np.unique(v.x)[isensor_x]\n",
    "sensor_y = np.unique(v.y)[isensor_y]\n",
    "v_element = v.loc[(v.run==element)&(v.x==sensor_x)&(v.y==sensor_y)]\n",
    "\n",
    "fig, (ax1, ax2, ax3) = plt.subplots(3, 1, sharex=True, figsize=(8,6))\n",
    "ax1.plot(v_element.loc[v_element.field=='Veloc E'].iloc[:,5:].T, 'y', linewidth=3)\n",
    "ax1.plot(np.linspace(0, 19.99, 2000), vE[element, isensor_y, isensor_x, :], 'k', linewidth=1)\n",
    "ax1.set_ylabel('$V_E$ (m/s)')\n",
    "\n",
    "ax2.plot(v_element.loc[v_element.field=='Veloc N'].iloc[:,5:].T, 'y', linewidth=3)\n",
    "ax2.plot(np.linspace(0, 19.99, 2000), vN[element, isensor_y, isensor_x, :], 'k', linewidth=1)\n",
    "ax2.set_ylabel('$V_N$ (m/s)')\n",
    "\n",
    "ax3.plot(v_element.loc[v_element.field=='Veloc Z'].iloc[:,5:].T, 'y', linewidth=3)\n",
    "ax3.plot(np.linspace(0, 19.99, 2000), vZ[element, isensor_y, isensor_x, :], 'k', linewidth=1)\n",
    "ax3.set_ylabel('$V_Z$ (m/s)')\n",
    "ax3.set_xlim([0, 20])\n",
    "ax3.set_xlabel('Time (s)')\n",
    "fig.suptitle(f'Velocity field at ({int(sensor_x)}m; {int(sensor_y)}m) for element {element}')\n",
    "\n",
    "plt.show()"
   ]
  },
  {
   "cell_type": "markdown",
   "id": "d3ba4aad-d4f0-409e-9cb4-023bf36234a3",
   "metadata": {},
   "source": [
    "Snapshot at a given time `t`. "
   ]
  },
  {
   "cell_type": "code",
   "execution_count": null,
   "id": "4dd949a8-3e73-4432-b5c2-1ea74151ff1e",
   "metadata": {},
   "outputs": [],
   "source": [
    "t = 4\n",
    "m = np.max(np.abs(vE[element, :, :, int(t*100)]))\n",
    "\n",
    "fig, ax = plt.subplots(figsize=(5, 4))\n",
    "im = ax.imshow(vE[element, :, :, int(t*100)], vmin = -m, vmax=m, cmap='RdBu', origin='lower', interpolation='none')\n",
    "fig.colorbar(im, ax=ax, label = '$V_E$ (m/s)', shrink=0.7)\n",
    "\n",
    "ticks = np.linspace(-0.5, 15.5, 6)\n",
    "ax.set_xticks(ticks)\n",
    "ax.set_xticklabels((600*(ticks+0.5)).astype(int))\n",
    "ax.set_xlabel('x (m)')\n",
    "\n",
    "ax.set_yticks(ticks)\n",
    "ax.set_yticklabels((600*(ticks+0.5)).astype(int))\n",
    "ax.set_ylabel('y (m)')\n",
    "\n",
    "ax.set_title(f'Velocity field E-W at t={t:.2f}s for element {element}')\n",
    "\n",
    "fig.tight_layout()\n",
    "plt.show()"
   ]
  },
  {
   "cell_type": "code",
   "execution_count": null,
   "id": "7dd46ee5-dc22-412d-bb56-d3e98dcf2b51",
   "metadata": {},
   "outputs": [],
   "source": []
  }
 ],
 "metadata": {
  "kernelspec": {
   "display_name": "alert23",
   "language": "python",
   "name": "python3"
  },
  "language_info": {
   "codemirror_mode": {
    "name": "ipython",
    "version": 3
   },
   "file_extension": ".py",
   "mimetype": "text/x-python",
   "name": "python",
   "nbconvert_exporter": "python",
   "pygments_lexer": "ipython3",
   "version": "3.11.5"
  }
 },
 "nbformat": 4,
 "nbformat_minor": 5
}
